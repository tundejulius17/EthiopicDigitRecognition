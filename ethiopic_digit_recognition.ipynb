{
 "cells": [
  {
   "cell_type": "code",
   "execution_count": 24,
   "metadata": {},
   "outputs": [],
   "source": [
    "import tensorflow as tf\n",
    "from keras.preprocessing.image import ImageDataGenerator"
   ]
  },
  {
   "cell_type": "code",
   "execution_count": 25,
   "metadata": {},
   "outputs": [
    {
     "name": "stdout",
     "output_type": "stream",
     "text": [
      "Found 45000 images belonging to 10 classes.\n",
      "Found 15000 images belonging to 10 classes.\n"
     ]
    }
   ],
   "source": [
    "# data loading and augmentation\n",
    "# split the data into training set and validation set\n",
    "datagen = ImageDataGenerator(rescale=1./255, validation_split=0.25)\n",
    "\n",
    "train_generator = datagen.flow_from_directory('train/train', target_size=(28, 28), \n",
    "                                                    batch_size=32, class_mode='categorical', \n",
    "                                                    subset='training', color_mode='grayscale')\n",
    "\n",
    "valid_generator = datagen.flow_from_directory('train/train', target_size=(28, 28), \n",
    "                                                    batch_size=32, class_mode='categorical', \n",
    "                                                    subset='validation', color_mode='grayscale' )\n"
   ]
  },
  {
   "cell_type": "code",
   "execution_count": 26,
   "metadata": {},
   "outputs": [
    {
     "data": {
      "text/plain": [
       "<tensorflow.python.keras.preprocessing.image.DirectoryIterator at 0x1e5f48c9700>"
      ]
     },
     "execution_count": 26,
     "metadata": {},
     "output_type": "execute_result"
    }
   ],
   "source": [
    "train_generator # training data set generator"
   ]
  },
  {
   "cell_type": "code",
   "execution_count": 27,
   "metadata": {},
   "outputs": [
    {
     "data": {
      "text/plain": [
       "(28, 28, 1)"
      ]
     },
     "execution_count": 27,
     "metadata": {},
     "output_type": "execute_result"
    }
   ],
   "source": [
    "train_generator.image_shape"
   ]
  },
  {
   "cell_type": "code",
   "execution_count": 28,
   "metadata": {},
   "outputs": [
    {
     "data": {
      "text/plain": [
       "(28, 28, 1)"
      ]
     },
     "execution_count": 28,
     "metadata": {},
     "output_type": "execute_result"
    }
   ],
   "source": [
    "valid_generator.image_shape # validation data set generator"
   ]
  },
  {
   "cell_type": "code",
   "execution_count": 29,
   "metadata": {},
   "outputs": [],
   "source": [
    "# define the model\n",
    "model = tf.keras.models.Sequential()"
   ]
  },
  {
   "cell_type": "code",
   "execution_count": 30,
   "metadata": {},
   "outputs": [],
   "source": [
    "# add the layers \n",
    "model.add(tf.keras.layers.Conv2D(filters=32, kernel_size=3, activation='relu', padding='same', input_shape=(28, 28, 1)))\n",
    "model.add(tf.keras.layers.MaxPool2D(pool_size=2, strides=2, padding='same'))\n",
    "model.add(tf.keras.layers.Conv2D(filters=64, kernel_size=3, activation='relu', padding='same'))\n",
    "model.add(tf.keras.layers.Conv2D(filters=64, kernel_size=3, activation='relu', padding='same'))\n",
    "\n",
    "\n",
    "model.add(tf.keras.layers.MaxPool2D(pool_size=2, strides=2, padding='same'))\n",
    "model.add(tf.keras.layers.Flatten())\n",
    "model.add(tf.keras.layers.Dense(units=128, activation='relu'))\n",
    "model.add(tf.keras.layers.Dropout(0.5))\n",
    "model.add(tf.keras.layers.Dense(units=10, activation='softmax'))\n",
    "# compile the model\n",
    "model.compile(optimizer='adam', loss='categorical_crossentropy', metrics=['accuracy']) \n"
   ]
  },
  {
   "cell_type": "code",
   "execution_count": 31,
   "metadata": {},
   "outputs": [
    {
     "name": "stdout",
     "output_type": "stream",
     "text": [
      "Epoch 1/10\n",
      "1407/1407 [==============================] - 73s 52ms/step - loss: 0.9497 - accuracy: 0.6428 - val_loss: 0.2088 - val_accuracy: 0.9351\n",
      "Epoch 2/10\n",
      "1407/1407 [==============================] - 77s 55ms/step - loss: 0.2496 - accuracy: 0.9138 - val_loss: 0.0981 - val_accuracy: 0.9651\n",
      "Epoch 3/10\n",
      "1407/1407 [==============================] - 78s 56ms/step - loss: 0.1337 - accuracy: 0.9553 - val_loss: 0.0555 - val_accuracy: 0.9821\n",
      "Epoch 4/10\n",
      "1407/1407 [==============================] - 74s 52ms/step - loss: 0.0933 - accuracy: 0.9690 - val_loss: 0.0406 - val_accuracy: 0.9854\n",
      "Epoch 5/10\n",
      "1407/1407 [==============================] - 73s 52ms/step - loss: 0.0689 - accuracy: 0.9778 - val_loss: 0.0469 - val_accuracy: 0.9847\n",
      "Epoch 6/10\n",
      "1407/1407 [==============================] - 76s 54ms/step - loss: 0.0512 - accuracy: 0.9833 - val_loss: 0.0440 - val_accuracy: 0.9856\n",
      "Epoch 7/10\n",
      "1407/1407 [==============================] - 75s 53ms/step - loss: 0.0430 - accuracy: 0.9861 - val_loss: 0.0277 - val_accuracy: 0.9906\n",
      "Epoch 8/10\n",
      "1407/1407 [==============================] - 76s 54ms/step - loss: 0.0340 - accuracy: 0.9881 - val_loss: 0.0252 - val_accuracy: 0.9912\n",
      "Epoch 9/10\n",
      "1407/1407 [==============================] - 75s 53ms/step - loss: 0.0294 - accuracy: 0.9902 - val_loss: 0.0223 - val_accuracy: 0.9927\n",
      "Epoch 10/10\n",
      "1407/1407 [==============================] - 74s 53ms/step - loss: 0.0274 - accuracy: 0.9910 - val_loss: 0.0226 - val_accuracy: 0.9924\n"
     ]
    }
   ],
   "source": [
    "# train the model\n",
    "history = model.fit(x=train_generator, epochs=10, validation_data=valid_generator)"
   ]
  },
  {
   "cell_type": "code",
   "execution_count": 32,
   "metadata": {},
   "outputs": [
    {
     "data": {
      "image/png": "[encoded data removed]",
      "text/plain": [
       "<Figure size 432x288 with 1 Axes>"
      ]
     },
     "metadata": {
      "needs_background": "light"
     },
     "output_type": "display_data"
    }
   ],
   "source": [
    "# plot the learning curves\n",
    "import matplotlib.pyplot as plt\n",
    "# accuracy plot\n",
    "plt.title('Model Accuracy')\n",
    "plt.plot(history.history['accuracy'], color='green')\n",
    "plt.plot(history.history['val_accuracy'], color='purple')\n",
    "plt.xlabel('Epoch')\n",
    "plt.ylabel('Accuracy')\n",
    "plt.legend(['train', 'valuation'], loc='best')\n",
    "plt.show()"
   ]
  },
  {
   "cell_type": "code",
   "execution_count": 33,
   "metadata": {},
   "outputs": [
    {
     "data": {
      "image/png": "[encoded data removed]",
      "text/plain": [
       "<Figure size 432x288 with 1 Axes>"
      ]
     },
     "metadata": {
      "needs_background": "light"
     },
     "output_type": "display_data"
    }
   ],
   "source": [
    "# loss plot\n",
    "plt.title('Model Loss')\n",
    "plt.plot(history.history['loss'], color='green')\n",
    "plt.plot(history.history['val_loss'], color='purple')\n",
    "plt.xlabel('Epoch')\n",
    "plt.ylabel('Loss')\n",
    "plt.legend(['train', 'valuation'], loc='best')\n",
    "plt.show()"
   ]
  },
  {
   "cell_type": "code",
   "execution_count": 34,
   "metadata": {},
   "outputs": [
    {
     "name": "stdout",
     "output_type": "stream",
     "text": [
      "469/469 [==============================] - 7s 16ms/step - loss: 0.0226 - accuracy: 0.9924\n"
     ]
    }
   ],
   "source": [
    "eval_result = model.evaluate(valid_generator) # model evalution "
   ]
  },
  {
   "cell_type": "code",
   "execution_count": 35,
   "metadata": {},
   "outputs": [],
   "source": [
    "# load and prepare the test images to be predicted\n",
    "from keras.preprocessing import image\n",
    "import os\n",
    "import numpy as np\n",
    "images = []\n",
    "folder_path = 'test/test'\n",
    "for filename in os.listdir(folder_path):\n",
    "    img = image.load_img(os.path.join(folder_path, filename), target_size=(28, 28), color_mode='grayscale')\n",
    "    img = image.img_to_array(img) # convert the PIL image into an array\n",
    "    img = img.reshape(1, 28, 28, 1) # reshape the image\n",
    "    img = img.astype('float') / 255.0 # normalization\n",
    "    images.append(img)\n",
    "test_images = np.vstack(images) # convert the list into an array "
   ]
  },
  {
   "cell_type": "code",
   "execution_count": 36,
   "metadata": {},
   "outputs": [
    {
     "data": {
      "text/plain": [
       "(10000, 28, 28, 1)"
      ]
     },
     "execution_count": 36,
     "metadata": {},
     "output_type": "execute_result"
    }
   ],
   "source": [
    "test_images.shape # test images shape"
   ]
  },
  {
   "cell_type": "code",
   "execution_count": 37,
   "metadata": {},
   "outputs": [
    {
     "data": {
      "text/plain": [
       "numpy.ndarray"
      ]
     },
     "execution_count": 37,
     "metadata": {},
     "output_type": "execute_result"
    }
   ],
   "source": [
    "type(test_images)"
   ]
  },
  {
   "cell_type": "code",
   "execution_count": 38,
   "metadata": {},
   "outputs": [],
   "source": [
    "# make the predictions\n",
    "test_probabilities = model.predict(test_images, batch_size=32)\n",
    "test_indices = np.argmax(test_probabilities, axis=-1)\n",
    "unique_classes = sorted(os.listdir('train/train')) # get the classes \n",
    "test_predictions = [unique_classes[index] for index in test_indices]"
   ]
  },
  {
   "cell_type": "code",
   "execution_count": 44,
   "metadata": {},
   "outputs": [
    {
     "data": {
      "text/plain": [
       "list"
      ]
     },
     "execution_count": 44,
     "metadata": {},
     "output_type": "execute_result"
    }
   ],
   "source": [
    "type(test_predictions)"
   ]
  },
  {
   "cell_type": "code",
   "execution_count": 43,
   "metadata": {},
   "outputs": [
    {
     "data": {
      "text/plain": [
       "10000"
      ]
     },
     "execution_count": 43,
     "metadata": {},
     "output_type": "execute_result"
    }
   ],
   "source": [
    "len(test_predictions)"
   ]
  },
  {
   "cell_type": "code",
   "execution_count": 41,
   "metadata": {},
   "outputs": [],
   "source": [
    "# write the predictions into a csv file\n",
    "with open('sample_submission.csv', 'w') as fp:\n",
    "    fp.write('Id,Category\\n')\n",
    "    for idx in range(10000):\n",
    "        fp.write(f\"{idx:05},{test_predictions[idx]}\\n\")"
   ]
  },
  {
   "cell_type": "code",
   "execution_count": null,
   "metadata": {},
   "outputs": [],
   "source": []
  }
 ],
 "metadata": {
  "kernelspec": {
   "display_name": "Python 3",
   "language": "python",
   "name": "python3"
  },
  "language_info": {
   "codemirror_mode": {
    "name": "ipython",
    "version": 3
   },
   "file_extension": ".py",
   "mimetype": "text/x-python",
   "name": "python",
   "nbconvert_exporter": "python",
   "pygments_lexer": "ipython3",
   "version": "3.8.3"
  }
 },
 "nbformat": 4,
 "nbformat_minor": 4
}
